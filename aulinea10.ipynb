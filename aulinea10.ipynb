{
  "nbformat": 4,
  "nbformat_minor": 0,
  "metadata": {
    "colab": {
      "provenance": [],
      "authorship_tag": "ABX9TyM86w4yiiDzLbMhDcikZVQZ",
      "include_colab_link": true
    },
    "kernelspec": {
      "name": "python3",
      "display_name": "Python 3"
    },
    "language_info": {
      "name": "python"
    }
  },
  "cells": [
    {
      "cell_type": "markdown",
      "metadata": {
        "id": "view-in-github",
        "colab_type": "text"
      },
      "source": [
        "<a href=\"https://colab.research.google.com/github/nosferatiic/pythonuc1/blob/main/aulinea10.ipynb\" target=\"_parent\"><img src=\"https://colab.research.google.com/assets/colab-badge.svg\" alt=\"Open In Colab\"/></a>"
      ]
    },
    {
      "cell_type": "code",
      "execution_count": null,
      "metadata": {
        "colab": {
          "base_uri": "https://localhost:8080/"
        },
        "id": "mJDW17ZXPKkw",
        "outputId": "0f6e72e9-4f38-4d4f-f4b4-4d0c9e00216c"
      },
      "outputs": [
        {
          "output_type": "stream",
          "name": "stdout",
          "text": [
            "[1, 44, 73, 2, 20, 62]\n"
          ]
        }
      ],
      "source": [
        "lista = [1, 44, 73, 2, 20, 62]\n",
        "print(lista)"
      ]
    },
    {
      "cell_type": "code",
      "source": [
        "valorde = 1\n",
        "for elemento in lista:\n",
        "    print(f'Valor do {valorde} elemento: {elemento}')\n",
        "    valorde += 1"
      ],
      "metadata": {
        "colab": {
          "base_uri": "https://localhost:8080/"
        },
        "id": "-aoydKcMPYWZ",
        "outputId": "6a524a87-a61d-41d7-bcdc-1282fe576a9c"
      },
      "execution_count": null,
      "outputs": [
        {
          "output_type": "stream",
          "name": "stdout",
          "text": [
            "Valor do 1 elemento: 1\n",
            "Valor do 2 elemento: 44\n",
            "Valor do 3 elemento: 73\n",
            "Valor do 4 elemento: 2\n",
            "Valor do 5 elemento: 20\n",
            "Valor do 6 elemento: 62\n"
          ]
        }
      ]
    },
    {
      "cell_type": "code",
      "source": [
        "for valor in range(len(lista)):\n",
        "    print(f'Valor do {valor + 1}o elemento: {lista[valor]}')\n"
      ],
      "metadata": {
        "colab": {
          "base_uri": "https://localhost:8080/"
        },
        "id": "om8EWMl0R1xo",
        "outputId": "1c0fbd68-11e8-4434-aab2-8bc57a9bf146"
      },
      "execution_count": null,
      "outputs": [
        {
          "output_type": "stream",
          "name": "stdout",
          "text": [
            "Valor do 1 elemento: 1\n",
            "Valor do 2 elemento: 44\n",
            "Valor do 3 elemento: 73\n",
            "Valor do 4 elemento: 2\n",
            "Valor do 5 elemento: 20\n",
            "Valor do 6 elemento: 62\n"
          ]
        }
      ]
    },
    {
      "cell_type": "code",
      "source": [
        "import numpy as np\n",
        "\n",
        "listanp = np.array([1,2,3,4,5])\n",
        "print(listanp)"
      ],
      "metadata": {
        "colab": {
          "base_uri": "https://localhost:8080/"
        },
        "id": "Y_zlBlGPPh-s",
        "outputId": "a861b734-6908-4fca-875f-ef749b5624e2"
      },
      "execution_count": null,
      "outputs": [
        {
          "output_type": "stream",
          "name": "stdout",
          "text": [
            "[1 2 3 4 5]\n"
          ]
        }
      ]
    },
    {
      "cell_type": "code",
      "source": [
        "soma = sum(lista)\n",
        "print(f'A soma dos itens dessa lista é {soma}')"
      ],
      "metadata": {
        "colab": {
          "base_uri": "https://localhost:8080/"
        },
        "id": "BL-cwMV7QKSA",
        "outputId": "0b932201-a269-4590-e044-da9bcc6a631e"
      },
      "execution_count": null,
      "outputs": [
        {
          "output_type": "stream",
          "name": "stdout",
          "text": [
            "202\n"
          ]
        }
      ]
    },
    {
      "cell_type": "code",
      "source": [
        "maior = max(lista)\n",
        "menor = min(lista)\n",
        "\n",
        "print(f'O maior elemento dessa lista é {maior}, enquanto o menor é {menor}')"
      ],
      "metadata": {
        "colab": {
          "base_uri": "https://localhost:8080/"
        },
        "id": "PWAvd0quQX8P",
        "outputId": "f3f21f22-62ee-4eb9-db57-cf0723dc820f"
      },
      "execution_count": null,
      "outputs": [
        {
          "output_type": "stream",
          "name": "stdout",
          "text": [
            "O maior elemento dessa lista é 73, enquanto o menor é 1\n"
          ]
        }
      ]
    },
    {
      "cell_type": "code",
      "source": [
        "listainv = lista[::-1]\n",
        "\n",
        "print(f'A lista invertida é {listainv}')"
      ],
      "metadata": {
        "colab": {
          "base_uri": "https://localhost:8080/"
        },
        "id": "cMJMvlovToLm",
        "outputId": "d62f38ae-e433-40d5-dfce-5033c7c5c338"
      },
      "execution_count": null,
      "outputs": [
        {
          "output_type": "stream",
          "name": "stdout",
          "text": [
            "A lista invertida é [62, 20, 2, 73, 44, 1]\n"
          ]
        }
      ]
    },
    {
      "cell_type": "code",
      "source": [
        "listavezdois = []\n",
        "for multiplicavel in lista:\n",
        "  valorvezdois = multiplicavel * 2\n",
        "  listavezdois.append(valorvezdois)\n",
        "\n",
        "print(f'Sua nova lista é {listavezdois}')\n"
      ],
      "metadata": {
        "colab": {
          "base_uri": "https://localhost:8080/"
        },
        "id": "KVOMnQKXUoAI",
        "outputId": "7be45ec5-a3f9-4684-f7a2-f73e44fb19bc"
      },
      "execution_count": null,
      "outputs": [
        {
          "output_type": "stream",
          "name": "stdout",
          "text": [
            "Sua nova lista é [2, 88, 146, 4, 40, 124]\n"
          ]
        }
      ]
    },
    {
      "cell_type": "code",
      "source": [
        "listadois = [1, 2, 3, 3, 9, 2, 3, 4]\n",
        "listatres = [4, 8, 9, 2, 1, 9, 1]\n",
        "\n",
        "ocorredois = listadois.count(3)\n",
        "ocorretres = listatres.count(3)\n",
        "\n",
        "print(f'Na lista dois, o número três ocorre {ocorredois} vezes, enquanto na lista três, ocorre {ocorretres} vezes.')"
      ],
      "metadata": {
        "id": "cjkGusIwVaaF",
        "colab": {
          "base_uri": "https://localhost:8080/"
        },
        "outputId": "be15b3c8-e439-49be-ab30-13ea5dfc0f77"
      },
      "execution_count": 19,
      "outputs": [
        {
          "output_type": "stream",
          "name": "stdout",
          "text": [
            "Na lista dois, o número três ocorre 3 vezes, enquanto na lista três, ocorre 0 vezes.\n"
          ]
        }
      ]
    },
    {
      "cell_type": "code",
      "source": [
        "listarrumada = sorted(lista)\n",
        "\n",
        "print(f'A lista, em ordem crescente, é {listarrumada}')\n",
        "\n"
      ],
      "metadata": {
        "colab": {
          "base_uri": "https://localhost:8080/"
        },
        "id": "5lLWTzRIXMQF",
        "outputId": "33370eca-157d-444e-d5bd-c7a74c9db9b6"
      },
      "execution_count": 26,
      "outputs": [
        {
          "output_type": "stream",
          "name": "stdout",
          "text": [
            "A lista, em ordem crescente, é [1, 2, 20, 44, 62, 73]\n"
          ]
        }
      ]
    },
    {
      "cell_type": "code",
      "source": [
        "import random as r\n",
        "\n",
        "listarand = []\n",
        "\n",
        "for n in range(20):\n",
        "    numero = r.randint(1, 187)\n",
        "    listarand.append(numero)\n",
        "\n",
        "#print(listarand)\n",
        "print(f'A soma dos números da lista randômica é {sum(listarand):2}')\n",
        "print(f'O maior dos números da lista randômica é {max(listarand):2}')\n",
        "print(f'O menor dos números da lista randômica é {min(listarand):2}')\n",
        "\n",
        "media = sum(listarand) / len(listarand)\n",
        "\n",
        "print(f'A média dos números da lista randômica é {media :2}')\n",
        "\n"
      ],
      "metadata": {
        "colab": {
          "base_uri": "https://localhost:8080/"
        },
        "id": "rsfvfq4yXxDC",
        "outputId": "adfdb9ac-5fdc-4cf5-dedc-6e7ee8aa2a6a"
      },
      "execution_count": 51,
      "outputs": [
        {
          "output_type": "stream",
          "name": "stdout",
          "text": [
            "A soma dos números da lista randômica é 2156\n",
            "O maior dos números da lista randômica é 178\n",
            "O menor dos números da lista randômica é 13\n",
            "A média dos números da lista randômica é 107.8\n"
          ]
        }
      ]
    },
    {
      "cell_type": "code",
      "source": [
        "listaigualdade = [1, 2, 5, 3, 4, 4, 5, 2, 1]\n",
        "listanova = []\n",
        "for n in listaigualdade:\n",
        "  if n not in listanova:\n",
        "    listanova.append(n)\n",
        "\n",
        "\n",
        "print(listanova)"
      ],
      "metadata": {
        "colab": {
          "base_uri": "https://localhost:8080/"
        },
        "id": "xaYCnk5Xbkrv",
        "outputId": "03ac4a7c-763d-4daa-aa52-7adba0ee587f"
      },
      "execution_count": 39,
      "outputs": [
        {
          "output_type": "stream",
          "name": "stdout",
          "text": [
            "[1, 2, 5, 3, 4]\n"
          ]
        }
      ]
    },
    {
      "cell_type": "code",
      "source": [
        "import random as r\n",
        "qtdnumeros = []\n",
        "listaparimpar = []\n",
        "listapar = []\n",
        "listaimpar = []\n",
        "\n",
        "qtdnumeros = r.randint(1, 187)\n",
        "\n",
        "for n in range(qtdnumeros):\n",
        "    numero = r.randint(1, 187)\n",
        "    listaparimpar.append(numero)\n",
        "\n",
        "for integ in listaparimpar:\n",
        "    if integ % 2 == 0:\n",
        "      listapar.append(integ)\n",
        "    else:\n",
        "      listaimpar.append(integ)\n",
        "\n",
        "print(f'A lista randomizada ({(len(listaparimpar))}) foi: {listaparimpar}')\n",
        "print(f'Os números pares ({len(listapar)}) randomizados foram: {listapar}')\n",
        "print(f'Os números ímpares ({len(listaimpar)}) randomizados foram: {listaimpar}')\n",
        "\n",
        "\n",
        "\n"
      ],
      "metadata": {
        "colab": {
          "base_uri": "https://localhost:8080/"
        },
        "id": "aIXeo3F7eyE1",
        "outputId": "f6ecb6ee-a920-4ae7-f690-157c80cbba45"
      },
      "execution_count": 65,
      "outputs": [
        {
          "output_type": "stream",
          "name": "stdout",
          "text": [
            "A lista randomizada (51) foi: [106, 100, 152, 38, 20, 48, 178, 43, 31, 149, 156, 77, 33, 69, 143, 164, 133, 101, 172, 74, 90, 26, 141, 115, 74, 162, 82, 78, 65, 98, 133, 47, 183, 9, 137, 75, 183, 60, 123, 75, 140, 78, 82, 48, 153, 166, 8, 85, 22, 164, 73]\n",
            "Os números pares (27) randomizados foram: [106, 100, 152, 38, 20, 48, 178, 156, 164, 172, 74, 90, 26, 74, 162, 82, 78, 98, 60, 140, 78, 82, 48, 166, 8, 22, 164]\n",
            "Os números ímpares (24) randomizados foram: [43, 31, 149, 77, 33, 69, 143, 133, 101, 141, 115, 65, 133, 47, 183, 9, 137, 75, 183, 123, 75, 153, 85, 73]\n"
          ]
        }
      ]
    }
  ]
}