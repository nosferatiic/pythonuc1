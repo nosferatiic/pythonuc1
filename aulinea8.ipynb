{
  "nbformat": 4,
  "nbformat_minor": 0,
  "metadata": {
    "colab": {
      "provenance": [],
      "authorship_tag": "ABX9TyNqwe8CEz0pLN1/aRU816Ry",
      "include_colab_link": true
    },
    "kernelspec": {
      "name": "python3",
      "display_name": "Python 3"
    },
    "language_info": {
      "name": "python"
    }
  },
  "cells": [
    {
      "cell_type": "markdown",
      "metadata": {
        "id": "view-in-github",
        "colab_type": "text"
      },
      "source": [
        "<a href=\"https://colab.research.google.com/github/nosferatiic/pythonuc1/blob/main/aulinea8.ipynb\" target=\"_parent\"><img src=\"https://colab.research.google.com/assets/colab-badge.svg\" alt=\"Open In Colab\"/></a>"
      ]
    },
    {
      "cell_type": "code",
      "execution_count": 2,
      "metadata": {
        "colab": {
          "base_uri": "https://localhost:8080/"
        },
        "id": "39kCYAAGG4uu",
        "outputId": "7e4e2abd-3ab6-4b60-8073-6ce1208a7a3b"
      },
      "outputs": [
        {
          "output_type": "stream",
          "name": "stdout",
          "text": [
            "Oibomdia\n"
          ]
        }
      ],
      "source": [
        "def saudacao():\n",
        "  print('Oibomdia')\n",
        "\n",
        "saudacao()"
      ]
    },
    {
      "cell_type": "code",
      "source": [
        "def somar(a,b):\n",
        "  print(f'O resultado da soma é {int(a)+int(b)}.')\n",
        "\n",
        "somar(6, 8)"
      ],
      "metadata": {
        "colab": {
          "base_uri": "https://localhost:8080/"
        },
        "id": "G_MsPXsmHHES",
        "outputId": "951965c0-6154-4c40-ab4d-d67c3c832977"
      },
      "execution_count": 5,
      "outputs": [
        {
          "output_type": "stream",
          "name": "stdout",
          "text": [
            "O resultado da soma é 14.\n"
          ]
        }
      ]
    },
    {
      "cell_type": "code",
      "source": [
        "def parouimpar(n):\n",
        "  if n % 2 == 0:\n",
        "    print('Par.')\n",
        "  else:\n",
        "    print('Ímpar.')\n",
        "\n",
        "parouimpar(7)\n",
        "parouimpar(2)"
      ],
      "metadata": {
        "colab": {
          "base_uri": "https://localhost:8080/"
        },
        "id": "27dtcdGyIIe-",
        "outputId": "253edcfe-26be-4782-ded0-6641a4555f6a"
      },
      "execution_count": 7,
      "outputs": [
        {
          "output_type": "stream",
          "name": "stdout",
          "text": [
            "Ímpar.\n",
            "Par.\n"
          ]
        }
      ]
    },
    {
      "cell_type": "code",
      "source": [
        "def fatorial(n):\n",
        "  value = 1\n",
        "  n = int(n)\n",
        "  for num in range(1, n+1):\n",
        "      value = value * num\n",
        "  return value\n",
        "\n",
        "print(fatorial(7))"
      ],
      "metadata": {
        "colab": {
          "base_uri": "https://localhost:8080/"
        },
        "id": "jVR5ANSmImD8",
        "outputId": "86d94b77-b0ce-4559-cdbb-42beb84a2010"
      },
      "execution_count": 19,
      "outputs": [
        {
          "output_type": "stream",
          "name": "stdout",
          "text": [
            "5040\n"
          ]
        }
      ]
    },
    {
      "cell_type": "code",
      "source": [
        "def maiorelemento(x):\n",
        "  for elemento in x:\n",
        "    resultado = 1\n",
        "    if elemento > resultado:\n",
        "      resultado = elemento\n",
        "    else:\n",
        "      pass\n",
        "\n",
        "  return f'O maior elemento é {resultado}'\n",
        "\n",
        "print(maiorelemento([4, 3, 2, 8]))"
      ],
      "metadata": {
        "colab": {
          "base_uri": "https://localhost:8080/"
        },
        "id": "GU0pUhPkLuSp",
        "outputId": "2864de46-6614-4fd7-cc1f-529621b72509"
      },
      "execution_count": 34,
      "outputs": [
        {
          "output_type": "stream",
          "name": "stdout",
          "text": [
            "O maior elemento é 8\n"
          ]
        }
      ]
    },
    {
      "cell_type": "code",
      "source": [
        "def mediaaritmetica(x):\n",
        "  sumoflist = sum(x)\n",
        "  mediaoflist = sumoflist / len(x)\n",
        "  return f'A média aritmética desses números é {mediaoflist}.'\n",
        "\n",
        "print(mediaaritmetica([8, 9, 11, 15, 66]))"
      ],
      "metadata": {
        "colab": {
          "base_uri": "https://localhost:8080/"
        },
        "id": "3e2CiMlcL_d1",
        "outputId": "79c36563-1f14-4131-bdd0-f86cc23d2f1e"
      },
      "execution_count": 25,
      "outputs": [
        {
          "output_type": "stream",
          "name": "stdout",
          "text": [
            "A média aritmética é 21.8\n"
          ]
        }
      ]
    },
    {
      "cell_type": "code",
      "source": [
        "def palindromo(x):\n",
        "  if x == x[::-1]:\n",
        "    return 'É palíndromo.'\n",
        "  else:\n",
        "    return 'Não é palíndromo.'\n",
        "\n",
        "print(palindromo('osso'))\n",
        "print(palindromo('sopa'))\n"
      ],
      "metadata": {
        "colab": {
          "base_uri": "https://localhost:8080/"
        },
        "id": "X03jsMBsNDnz",
        "outputId": "2b1b8276-3414-43da-9878-f6b8cead88ee"
      },
      "execution_count": 29,
      "outputs": [
        {
          "output_type": "stream",
          "name": "stdout",
          "text": [
            "É palíndromo.\n",
            "Não é palíndromo.\n"
          ]
        }
      ]
    },
    {
      "cell_type": "code",
      "source": [
        "def contarvogais(texto):\n",
        "  counter = 0\n",
        "  vogais = ['a', 'e', 'i', 'o', 'u', 'A', 'E', 'I', 'O', 'U']\n",
        "  for char in texto:\n",
        "    if char in vogais:\n",
        "      counter += 1\n",
        "    else:\n",
        "      pass\n",
        "  return counter\n",
        "\n",
        "print(contarvogais('JANUARY. Delightful display. Snowdrops bow their pure white heads To the suns glory.'))\n",
        ""
      ],
      "metadata": {
        "colab": {
          "base_uri": "https://localhost:8080/"
        },
        "id": "dbQ65lZ-OGcx",
        "outputId": "c639a265-e33e-42fd-e971-236fbe53a0d6"
      },
      "execution_count": 32,
      "outputs": [
        {
          "output_type": "stream",
          "name": "stdout",
          "text": [
            "23\n"
          ]
        }
      ]
    },
    {
      "cell_type": "code",
      "source": [
        "def tabuadade(x):\n",
        "  resultado = []\n",
        "  for n in range(1, 11):\n",
        "    valor = x * n\n",
        "    resultado.append(valor)\n",
        "  return resultado\n",
        "\n",
        "print(tabuadade(11))\n",
        ""
      ],
      "metadata": {
        "colab": {
          "base_uri": "https://localhost:8080/"
        },
        "id": "IvaItd_4QknZ",
        "outputId": "75315264-8be8-409d-d936-e3e24f101849"
      },
      "execution_count": 33,
      "outputs": [
        {
          "output_type": "stream",
          "name": "stdout",
          "text": [
            "[11, 22, 33, 44, 55, 66, 77, 88, 99, 110]\n"
          ]
        }
      ]
    }
  ]
}