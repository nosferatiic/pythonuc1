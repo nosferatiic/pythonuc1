{
 "cells": [
  {
   "cell_type": "code",
   "execution_count": null,
   "metadata": {},
   "outputs": [],
   "source": [
    "import random as r\n",
    "\n",
    "\n",
    "\n",
    "board = []\n",
    "playingboard = []\n",
    "rowcheck = [' ', '#']\n",
    "for n in range(5):\n",
    "    row = []\n",
    "    for c in range(5):\n",
    "        row.append(' ')\n",
    "    board.append(row)\n",
    "\n",
    "board2 = board.copy()\n",
    "\n",
    "count = 0\n",
    "for row in board2:\n",
    "    board2[count] = (r.choices(rowcheck, weights = [8, 1], k=5))\n",
    "    count = count + 1\n",
    "\n",
    "def snipe():\n",
    "     linha = int(input('Em qual linha estás atacando? (1 a 5)'))\n",
    "     coluna = int(input('Em qual linha estás atacando? (1 a 5)'))\n",
    "     if linha > 5 or coluna > 5:\n",
    "        print('Inválido.')\n",
    "     if board2[linha-1][coluna-1] == '#':\n",
    "        print('Navio Aingido!')\n",
    "        board[linha-1][coluna-1] = '#'\n",
    "     else: \n",
    "        print('Água!')\n",
    "        board[linha-1][coluna-1] = '0'\n",
    "\n",
    "\n",
    "\n",
    "print('Bem vindo à Batalha Naval!')\n",
    "\n",
    "\n",
    "for row in board:\n",
    "    print(row)\n",
    "\n",
    "counter = 0\n",
    "thevalue = False\n",
    "while thevalue == False:\n",
    "    for row in board2:\n",
    "        if '#' in row:\n",
    "            break\n",
    "        else:\n",
    "            counter = counter + 1\n",
    "            if counter == 5:\n",
    "                print('Parabéns, todos os navios foram encontrados.\\n Obrigado por jogar.')\n",
    "                thevalue == True\n",
    "    snipe()\n",
    "    for row in board:\n",
    "        print(row)\n",
    "\n",
    "\n",
    "    \n",
    "\n",
    "\n"
   ]
  }
 ],
 "metadata": {
  "kernelspec": {
   "display_name": "Python 3.10.5 64-bit",
   "language": "python",
   "name": "python3"
  },
  "language_info": {
   "codemirror_mode": {
    "name": "ipython",
    "version": 3
   },
   "file_extension": ".py",
   "mimetype": "text/x-python",
   "name": "python",
   "nbconvert_exporter": "python",
   "pygments_lexer": "ipython3",
   "version": "3.10.5"
  },
  "orig_nbformat": 4,
  "vscode": {
   "interpreter": {
    "hash": "369f2c481f4da34e4445cda3fffd2e751bd1c4d706f27375911949ba6bb62e1c"
   }
  }
 },
 "nbformat": 4,
 "nbformat_minor": 2
}
