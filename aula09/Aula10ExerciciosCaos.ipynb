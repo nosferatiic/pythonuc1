{
 "cells": [
  {
   "cell_type": "code",
   "execution_count": 11,
   "metadata": {},
   "outputs": [
    {
     "name": "stdout",
     "output_type": "stream",
     "text": [
      "Matriz 4x4: \n",
      "[[1 1 1 1]\n",
      " [1 1 1 1]\n",
      " [1 1 1 1]\n",
      " [1 1 1 1]]\n"
     ]
    }
   ],
   "source": [
    "import numpy as np\n",
    "\n",
    "\n",
    "matriz = []\n",
    "print('Matriz 4x4: ')\n",
    "for l in range(1, 5):\n",
    "    linha = []\n",
    "    for c in range(1, 5):\n",
    "        novonumero = int(input(f'Escolha o número que ocupará a posição {l}; {c} na matriz.'))\n",
    "        linha.append(novonumero)\n",
    "    else:\n",
    "        matriz.append(linha)\n",
    "\n",
    "matriz = np.array(matriz)\n",
    "matrizv2 = np.asmatrix(matriz)\n",
    "\n",
    "print(matrizv2)\n",
    "\n",
    "\n",
    "## hoje eu to brincante prof\n",
    "\n",
    "\n",
    "\n",
    "\n"
   ]
  },
  {
   "cell_type": "code",
   "execution_count": 35,
   "metadata": {},
   "outputs": [
    {
     "name": "stdout",
     "output_type": "stream",
     "text": [
      "Matriz 4x4: \n",
      "Matriz Criada: \n",
      "[[1 2 3 4]\n",
      " [5 1 2 3]\n",
      " [4 5 1 2]\n",
      " [3 4 5 1]]\n",
      "\n",
      "Números acima da diagonal principal: \n",
      "[2, 3, 4, 2, 3, 2]\n",
      "\n",
      "Soma dos números acima da diagonal principal: \n",
      "16\n"
     ]
    }
   ],
   "source": [
    "import numpy as np\n",
    "acimadadiag = []\n",
    "\n",
    "matriz = []\n",
    "print('Matriz 4x4: ')\n",
    "for l in range(1, 5):\n",
    "    linha = []\n",
    "    for c in range(1, 5):\n",
    "        novonumero = int(input(f'Escolha o número que ocupará a posição {l}; {c} na matriz.'))\n",
    "        linha.append(novonumero)\n",
    "    else:\n",
    "        matriz.append(linha)\n",
    "\n",
    "\n",
    "for linha in range(4):\n",
    "    for coluna in range(4):\n",
    "        if coluna > linha:\n",
    "            acimadadiag.append(matriz[linha][coluna])\n",
    "else:\n",
    "    sumresult = sum(acimadadiag)\n",
    "\n",
    "print('Matriz Criada: ')\n",
    "matriz = np.array(matriz)\n",
    "matrizv2 = np.asmatrix(matriz)\n",
    "print(matrizv2)\n",
    "\n",
    "print()\n",
    "\n",
    "print('Números acima da diagonal principal: ')\n",
    "print(acimadadiag)\n",
    "\n",
    "print()\n",
    "\n",
    "print('Soma dos números acima da diagonal principal: ')\n",
    "print(sumresult)\n",
    "\n",
    "##esse aqui eu suei bonito\n",
    "\n",
    "\n",
    "\n",
    "\n"
   ]
  },
  {
   "cell_type": "code",
   "execution_count": 36,
   "metadata": {},
   "outputs": [
    {
     "name": "stdout",
     "output_type": "stream",
     "text": [
      "30 36 51 59 36 \n",
      "13 40 100 33 10 \n",
      "38 02 16 44 57 \n"
     ]
    }
   ],
   "source": [
    "for linha in matriz3:\n",
    "    for valor in linha:\n",
    "        print(f'{valor:02}', end=' ')\n",
    "    print(f'')"
   ]
  },
  {
   "cell_type": "code",
   "execution_count": 12,
   "metadata": {},
   "outputs": [
    {
     "name": "stdout",
     "output_type": "stream",
     "text": [
      "44\n"
     ]
    }
   ],
   "source": [
    "\n",
    "\n",
    "matriz=[\n",
    "    [15, 30, 21],\n",
    "    [79, 27, 44],\n",
    "    [12, 70, 25]\n",
    "]\n",
    "\n",
    "print(f'{matriz[1][2]}')"
   ]
  },
  {
   "cell_type": "code",
   "execution_count": 51,
   "metadata": {},
   "outputs": [
    {
     "name": "stdout",
     "output_type": "stream",
     "text": [
      "35 04 46 73 \n",
      "53 45 61 50 \n",
      "64 31 48 27 \n",
      "23 72 43 41 \n",
      "[35, 4, 46, 73]\n",
      "[53, 45, 61, 50]\n",
      "[64, 31, 48, 27]\n",
      "[23, 72, 43, 41]\n"
     ]
    }
   ],
   "source": [
    "import random as r\n",
    "\n",
    "matriz3 = []\n",
    "for i in range(4) :\n",
    "    linha = []\n",
    "    for j in range(4):\n",
    "        elemento = r.randint(0, 100)\n",
    "        linha.append(elemento)\n",
    "    matriz3.append(linha)\n",
    "\n",
    "for linha in matriz3:\n",
    "    for valor in linha:\n",
    "        print(f'{valor:02}', end=' ')\n",
    "    print(f'')\n",
    "\n",
    "for i in matriz3:\n",
    "    print(i)\n"
   ]
  },
  {
   "cell_type": "code",
   "execution_count": 53,
   "metadata": {},
   "outputs": [
    {
     "name": "stdout",
     "output_type": "stream",
     "text": [
      "A matriz 3 é:\n",
      "35 04 46 73 \n",
      "53 45 61 50 \n",
      "64 31 48 27 \n",
      "23 72 43 41 \n",
      "Sua diagonal secundária é composta de: \n",
      "[35, 45, 48, 41]\n",
      "A soma dos elementos de sua diagonal secundária é 169.\n"
     ]
    }
   ],
   "source": [
    "import random as r\n",
    "diagsecundaria = []\n",
    "counter = 0\n",
    "for linha in matriz3:\n",
    "    diagsecundaria.append(linha[1 * counter])\n",
    "    counter = counter + 1\n",
    "\n",
    "print('A matriz 3 é:')\n",
    "for linha in matriz3:\n",
    "    for valor in linha:\n",
    "        print(f'{valor:02}', end=' ')\n",
    "    print(f'')\n",
    "\n",
    "print('Sua diagonal secundária é composta de: ')\n",
    "print(diagsecundaria)\n",
    "\n",
    "print(f'A soma dos elementos de sua diagonal secundária é {sum(diagsecundaria)}.')\n",
    "\n",
    "\n",
    "\n",
    "\n",
    "\n"
   ]
  },
  {
   "cell_type": "code",
   "execution_count": 38,
   "metadata": {},
   "outputs": [
    {
     "name": "stdout",
     "output_type": "stream",
     "text": [
      "Elemento (0, 0) >>> 30\n",
      "Elemento (0, 1) >>> 36\n",
      "Elemento (0, 2) >>> 51\n",
      "Elemento (1, 0) >>> 13\n",
      "Elemento (1, 1) >>> 40\n",
      "Elemento (1, 2) >>> 100\n",
      "Elemento (2, 0) >>> 38\n",
      "Elemento (2, 1) >>> 2\n",
      "Elemento (2, 2) >>> 16\n"
     ]
    }
   ],
   "source": [
    "for i in range(3):\n",
    "    for j in range(3):\n",
    "        print(f'Elemento ({i}, {j}) >>> {matriz3[i][j]}')"
   ]
  },
  {
   "cell_type": "code",
   "execution_count": 61,
   "metadata": {},
   "outputs": [
    {
     "name": "stdout",
     "output_type": "stream",
     "text": [
      "Matriz 4x4: \n",
      "A matriz é: \n",
      "01 02 03 04 \n",
      "05 06 07 08 \n",
      "09 01 02 03 \n",
      "04 05 06 07 \n",
      "\n",
      "O maior número na linha 1 é 4.\n",
      "O maior número na linha 2 é 8.\n",
      "O maior número na linha 3 é 9.\n",
      "O maior número na linha 4 é 7.\n"
     ]
    }
   ],
   "source": [
    "##Exercício 4\n",
    "\n",
    "matriz4 = []\n",
    "print('Matriz 4x4: ')\n",
    "for l in range(1, 5):\n",
    "    linha = []\n",
    "    for c in range(1, 5):\n",
    "        novonumero = int(input(f'Escolha o número que ocupará a posição {l}; {c} na matriz.'))\n",
    "        linha.append(novonumero)\n",
    "    else:\n",
    "        matriz4.append(linha)\n",
    "\n",
    "maior = []\n",
    "for linha in matriz4:\n",
    "    newvalue = max(linha)\n",
    "    maior.append(newvalue)\n",
    "\n",
    "\n",
    "print('A matriz é: ')\n",
    "for linha in matriz4:\n",
    "    for coluna in linha:\n",
    "        print(f'{coluna:02}', end=' ')\n",
    "    print()\n",
    "print()\n",
    "counter = 1\n",
    "for n in maior:\n",
    "    print(f'O maior número na linha {counter} é {n}.')\n",
    "    counter += 1\n",
    "\n",
    "\n",
    "\n",
    "    "
   ]
  },
  {
   "cell_type": "code",
   "execution_count": 65,
   "metadata": {},
   "outputs": [
    {
     "name": "stdout",
     "output_type": "stream",
     "text": [
      "Matriz 4x4: \n",
      "Matriz:\n",
      "[1, 2, 3, 4]\n",
      "[5, 6, 7, 8]\n",
      "[9, 1, 2, 3]\n",
      "[4, 5, 6, 7]\n",
      "Dentre estes, os números pares são [2, 4, 6, 8, 2, 4, 6], totalizando 7: \n"
     ]
    }
   ],
   "source": [
    "##Exercício 5\n",
    "matriz5 = []\n",
    "pares = []\n",
    "\n",
    "print('Matriz 4x4: ')\n",
    "for l in range(1, 5):\n",
    "    linha = []\n",
    "    for c in range(1, 5):\n",
    "        novonumero = int(input(f'Escolha o número que ocupará a posição {l}; {c} na matriz.'))\n",
    "        linha.append(novonumero)\n",
    "    else:\n",
    "        matriz5.append(linha)\n",
    "\n",
    "for linha in matriz5:\n",
    "    for coluna in linha:\n",
    "        if coluna % 2 == 0:\n",
    "            pares.append(coluna)\n",
    "\n",
    "print('Matriz:')\n",
    "for line in matriz5:\n",
    "    print(line)\n",
    "print(f'Dentre estes, os números pares são {pares}, totalizando {len(pares)}: ')\n",
    "\n"
   ]
  },
  {
   "cell_type": "code",
   "execution_count": 1,
   "metadata": {},
   "outputs": [
    {
     "name": "stdout",
     "output_type": "stream",
     "text": [
      "Matriz 4x4: \n",
      "Número que multiplica a matriz: 4\n",
      "Matriz inicial:\n",
      "[1, 2, 3, 1]\n",
      "[2, 3, 1, 2]\n",
      "[3, 1, 2, 3]\n",
      "[1, 2, 3, 1]\n",
      "\n",
      "Matriz multiplicada:\n",
      "[[4, 8, 12, 4], [8, 12, 4, 8], [12, 4, 8, 12], [4, 8, 12, 4]]\n"
     ]
    }
   ],
   "source": [
    "##Exercício 6\n",
    "valuemultip = int(input('Digite o número que multiplicará a matriz: '))\n",
    "matriz6 = []\n",
    "matriz6v2 = []\n",
    "print('Matriz 4x4: ')\n",
    "print(f'Número que multiplica a matriz: {valuemultip}')\n",
    "for l in range(1, 5):\n",
    "    linha = []\n",
    "    for c in range(1, 5):\n",
    "        novonumero = int(input(f'Escolha o número que ocupará a posição {l}; {c} na matriz.'))\n",
    "        linha.append(novonumero)\n",
    "    else:\n",
    "        matriz6.append(linha)\n",
    "print('Matriz inicial:')\n",
    "for linha in matriz6:\n",
    "    print(linha)\n",
    "\n",
    "for linha in matriz6:\n",
    "    linhanova = []\n",
    "    for coluna in linha:\n",
    "        vezdois = coluna * valuemultip\n",
    "        linhanova.append(vezdois) \n",
    "    else:\n",
    "        matriz6v2.append(linhanova)\n",
    "print()\n",
    "print('Matriz multiplicada:')\n",
    "print(matriz6v2)\n",
    "\n",
    "\n",
    "    "
   ]
  }
 ],
 "metadata": {
  "kernelspec": {
   "display_name": "Python 3.10.5 64-bit",
   "language": "python",
   "name": "python3"
  },
  "language_info": {
   "codemirror_mode": {
    "name": "ipython",
    "version": 3
   },
   "file_extension": ".py",
   "mimetype": "text/x-python",
   "name": "python",
   "nbconvert_exporter": "python",
   "pygments_lexer": "ipython3",
   "version": "3.10.5"
  },
  "orig_nbformat": 4,
  "vscode": {
   "interpreter": {
    "hash": "369f2c481f4da34e4445cda3fffd2e751bd1c4d706f27375911949ba6bb62e1c"
   }
  }
 },
 "nbformat": 4,
 "nbformat_minor": 2
}
