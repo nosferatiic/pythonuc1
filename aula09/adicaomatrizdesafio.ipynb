{
 "cells": [
  {
   "cell_type": "code",
   "execution_count": 28,
   "metadata": {},
   "outputs": [
    {
     "name": "stdout",
     "output_type": "stream",
     "text": [
      "\n",
      "[371, 1215, 1321, 1201, 1069, 1397, 463, 942, 1145, 783]\n",
      "[556, 480, 1234, 292, 353, 798, 897, 668, 1809, 418]\n",
      "[866, 747, 916, 1341, 1593, 984, 1398, 958, 498, 1090]\n",
      "[511, 898, 931, 1508, 424, 1263, 1461, 1055, 1275, 795]\n",
      "[136, 839, 886, 610, 1953, 946, 335, 1590, 385, 341]\n",
      "[1369, 964, 1077, 1043, 1487, 1270, 1542, 1320, 129, 1226]\n",
      "[1438, 1137, 712, 633, 1247, 1036, 387, 178, 194, 783]\n",
      "[237, 539, 1698, 519, 226, 1205, 142, 1189, 989, 874]\n",
      "[1225, 466, 914, 1029, 673, 1168, 943, 1632, 859, 928]\n",
      "[1488, 1684, 1147, 1605, 93, 1284, 282, 553, 1270, 700]\n",
      "--------------------------------------------------------\n",
      "A soma total dos elementos é 92678.\n",
      "A média dessa matriz é 926.78.\n"
     ]
    }
   ],
   "source": [
    "import random as r\n",
    "\n",
    "matrice1 = []\n",
    "matrice2 = []\n",
    "matricesum = []\n",
    "newsum = []\n",
    "\n",
    "for sublist in range(10):\n",
    "    sublist1 = []\n",
    "    for element in range(10):\n",
    "        sublist1.append(r.randint(1, 999))\n",
    "    matrice1.append(sublist1)\n",
    "\n",
    "for sublist in range(10):\n",
    "    sublist2 = []\n",
    "    for element in range(10):\n",
    "        sublist2.append(r.randint(1, 999))\n",
    "    matrice2.append(sublist2)\n",
    "\n",
    "for row in range(10):\n",
    "    newsumtrix = []\n",
    "    for column in range(10):\n",
    "        newvalue = matrice1[row][column] + matrice2[row][column]\n",
    "        newsumtrix.append(newvalue)\n",
    "    matricesum.append(newsumtrix)\n",
    "\n",
    "#for n in matrice1:\n",
    "    #print(n)\n",
    "\n",
    "print()\n",
    "\n",
    "#for y in matrice2:\n",
    "    #print(y)\n",
    "\n",
    "\n",
    "    \n",
    "for n in matricesum:\n",
    "    print(n)\n",
    "\n",
    "\n",
    "\n",
    "for n in matricesum:\n",
    "    addemup = sum(n)\n",
    "    newsum.append(addemup)\n",
    "\n",
    "\n",
    "tobedivided = sum(newsum)\n",
    "\n",
    "\n",
    "median = tobedivided / 100\n",
    "\n",
    "print('--------------------------------------------------------')\n",
    "\n",
    "print(f'A soma total dos elementos é {tobedivided}.')\n",
    "print(f'A média dessa matriz é {median}.')\n",
    "    "
   ]
  },
  {
   "cell_type": "code",
   "execution_count": null,
   "metadata": {},
   "outputs": [],
   "source": []
  }
 ],
 "metadata": {
  "kernelspec": {
   "display_name": "Python 3.10.5 64-bit",
   "language": "python",
   "name": "python3"
  },
  "language_info": {
   "codemirror_mode": {
    "name": "ipython",
    "version": 3
   },
   "file_extension": ".py",
   "mimetype": "text/x-python",
   "name": "python",
   "nbconvert_exporter": "python",
   "pygments_lexer": "ipython3",
   "version": "3.10.5"
  },
  "orig_nbformat": 4,
  "vscode": {
   "interpreter": {
    "hash": "369f2c481f4da34e4445cda3fffd2e751bd1c4d706f27375911949ba6bb62e1c"
   }
  }
 },
 "nbformat": 4,
 "nbformat_minor": 2
}
