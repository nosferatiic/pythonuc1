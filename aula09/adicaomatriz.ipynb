{
 "cells": [
  {
   "cell_type": "code",
   "execution_count": 6,
   "metadata": {},
   "outputs": [
    {
     "name": "stdout",
     "output_type": "stream",
     "text": [
      "[8, 10, 8]\n",
      "[2, 11, 12]\n",
      "[6, 10, 12]\n"
     ]
    }
   ],
   "source": [
    "mat1 = [\n",
    "    [1, 2, 4],\n",
    "    [2, 7, 9],\n",
    "    [3, 9, 6]\n",
    "]\n",
    "\n",
    "mat2 = [\n",
    "    [7, 8, 4],\n",
    "    [0, 4, 3],\n",
    "    [3, 1, 6]\n",
    "]\n",
    "\n",
    "mat3 = []\n",
    "\n",
    "for linha in range(3):\n",
    "    linhanova = []\n",
    "    for coluna in range(3):\n",
    "        newvalue = mat1[linha][coluna] + mat2[linha][coluna]\n",
    "        linhanova.append(newvalue)\n",
    "    mat3.append(linhanova)\n",
    "\n",
    "\n",
    "for line in mat3:\n",
    "    print(line)"
   ]
  }
 ],
 "metadata": {
  "kernelspec": {
   "display_name": "Python 3.10.5 64-bit",
   "language": "python",
   "name": "python3"
  },
  "language_info": {
   "codemirror_mode": {
    "name": "ipython",
    "version": 3
   },
   "file_extension": ".py",
   "mimetype": "text/x-python",
   "name": "python",
   "nbconvert_exporter": "python",
   "pygments_lexer": "ipython3",
   "version": "3.10.5"
  },
  "orig_nbformat": 4,
  "vscode": {
   "interpreter": {
    "hash": "369f2c481f4da34e4445cda3fffd2e751bd1c4d706f27375911949ba6bb62e1c"
   }
  }
 },
 "nbformat": 4,
 "nbformat_minor": 2
}
