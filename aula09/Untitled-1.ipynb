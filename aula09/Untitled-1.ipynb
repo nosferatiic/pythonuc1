{
 "cells": [
  {
   "cell_type": "code",
   "execution_count": 1,
   "metadata": {},
   "outputs": [
    {
     "name": "stdout",
     "output_type": "stream",
     "text": [
      "[' ', ' ', '#', ' ', ' ']\n",
      "[' ', ' ', ' ', '#', '#']\n",
      "[' ', '#', ' ', ' ', ' ']\n",
      "[' ', ' ', ' ', '#', '#']\n",
      "[' ', ' ', '#', ' ', ' ']\n"
     ]
    }
   ],
   "source": [
    "import random as r\n",
    "\n",
    "\n",
    "\n",
    "board = []\n",
    "rowcheck = [' ', '#']\n",
    "for n in range(5):\n",
    "    row = []\n",
    "    for c in range(5):\n",
    "        row.append(' ')\n",
    "    board.append(row)\n",
    "\n",
    "count = 0\n",
    "for row in board:\n",
    "    board[count] = (r.choices(rowcheck, weights = [4, 1], k=5))\n",
    "    count = count + 1\n",
    "\n",
    "\n",
    "for row in board:\n",
    "    print(row)\n",
    "\n",
    "while \n",
    "\n",
    "\n"
   ]
  }
 ],
 "metadata": {
  "kernelspec": {
   "display_name": "Python 3.10.5 64-bit",
   "language": "python",
   "name": "python3"
  },
  "language_info": {
   "codemirror_mode": {
    "name": "ipython",
    "version": 3
   },
   "file_extension": ".py",
   "mimetype": "text/x-python",
   "name": "python",
   "nbconvert_exporter": "python",
   "pygments_lexer": "ipython3",
   "version": "3.10.5"
  },
  "orig_nbformat": 4,
  "vscode": {
   "interpreter": {
    "hash": "369f2c481f4da34e4445cda3fffd2e751bd1c4d706f27375911949ba6bb62e1c"
   }
  }
 },
 "nbformat": 4,
 "nbformat_minor": 2
}
