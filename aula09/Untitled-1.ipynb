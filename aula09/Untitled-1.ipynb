{
 "cells": [
  {
   "cell_type": "code",
   "execution_count": 3,
   "metadata": {},
   "outputs": [
    {
     "name": "stdout",
     "output_type": "stream",
     "text": [
      "Desconto válido.\n",
      "\n",
      "LISTA DE PRODUTOS\n",
      "Arroz............... R$ 5.99 / Valor Total: 59.90\n",
      "Feijão.............. R$ 7.49 / Valor Total: 22.47\n",
      "Leite............... R$ 4.89 / Valor Total: 24.45\n",
      "Óleo................ R$ 9.99 / Valor Total: 19.98\n",
      "Açúcar.............. R$ 3.29 / Valor Total: 16.45\n",
      "\n",
      "Valor total da compra: R$ 143.25\n",
      "Desconto: -20%\n",
      "Valor com desconto: R$ 114.60\n"
     ]
    }
   ],
   "source": [
    "produtos = (\n",
    "    (\"Arroz\", 5.99, 10),\n",
    "    (\"Feijão\", 7.49, 3),\n",
    "    (\"Leite\", 4.89, 5),\n",
    "    (\"Óleo\", 9.99, 2),\n",
    "    (\"Açúcar\", 3.29, 5)\n",
    ")\n",
    "\n",
    "descontovalido = 0\n",
    "desconto = float(input('ADMIN: Escolha o desconto (valor de 0.1 até 0.9):'))\n",
    "if desconto >= 0.1 and desconto <= 0.9:\n",
    "  print('Desconto válido.')\n",
    "  descontovalido = desconto\n",
    "else:\n",
    "  print('Desconto inválido.')\n",
    "\n",
    "print()\n",
    "\n",
    "print(\"LISTA DE PRODUTOS\")\n",
    "precosjuntos = []\n",
    "for nome, preco, qtd in produtos:\n",
    "    precosjuntos.append(preco * qtd)\n",
    "    print(f\"{nome:.<20} R$ {preco:2.2f} / Valor Total: {(preco * qtd):.2f}\")\n",
    "\n",
    "print()\n",
    "print(f'Valor total da compra: R$ {sum(precosjuntos)}')\n",
    "print(f'Desconto: -{(descontovalido * 100):.0f}%')\n",
    "if descontovalido > 0:\n",
    "    print(f'Valor com desconto: R$ {((sum(precosjuntos))*(1-descontovalido)):.2f}')"
   ]
  },
  {
   "cell_type": "code",
   "execution_count": 2,
   "metadata": {},
   "outputs": [
    {
     "name": "stdout",
     "output_type": "stream",
     "text": [
      "A média dos números dessa lista é 52.44.\n",
      "Os números maiores que a média são [67, 80, 54, 87, 69, 60, 67, 76, 75, 64, 74, 97, 99, 66, 71, 62, 85, 83, 72, 92, 77, 79, 96, 68, 99, 54, 82, 60, 66, 67, 88, 99, 58, 60, 79, 91, 84, 70, 57, 99, 59, 82, 77, 74, 74, 67, 70, 64, 76, 63, 86].\n"
     ]
    }
   ],
   "source": [
    "import random as r \n",
    "medianlist = []\n",
    "biglist = []\n",
    "\n",
    "for n in range(1,100):\n",
    "    medianlist.append(r.randint(1, 100))\n",
    "\n",
    "median = round((sum(medianlist) / len(medianlist)), 2)\n",
    "\n",
    "for i in medianlist:\n",
    "  if i > median:\n",
    "    biglist.append(i)\n",
    "\n",
    "\n",
    "print(f'A média dos números dessa lista é {median}.')\n",
    "print(f'Os números maiores que a média são {biglist}.')\n",
    "\n"
   ]
  },
  {
   "cell_type": "code",
   "execution_count": null,
   "metadata": {},
   "outputs": [],
   "source": []
  }
 ],
 "metadata": {
  "kernelspec": {
   "display_name": "Python 3.10.5 64-bit",
   "language": "python",
   "name": "python3"
  },
  "language_info": {
   "codemirror_mode": {
    "name": "ipython",
    "version": 3
   },
   "file_extension": ".py",
   "mimetype": "text/x-python",
   "name": "python",
   "nbconvert_exporter": "python",
   "pygments_lexer": "ipython3",
   "version": "3.10.5"
  },
  "orig_nbformat": 4,
  "vscode": {
   "interpreter": {
    "hash": "369f2c481f4da34e4445cda3fffd2e751bd1c4d706f27375911949ba6bb62e1c"
   }
  }
 },
 "nbformat": 4,
 "nbformat_minor": 2
}
