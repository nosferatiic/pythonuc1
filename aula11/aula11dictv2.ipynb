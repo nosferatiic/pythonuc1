{
 "cells": [
  {
   "cell_type": "code",
   "execution_count": 1,
   "metadata": {},
   "outputs": [
    {
     "name": "stdout",
     "output_type": "stream",
     "text": [
      "{'nome': 'Luis', 'idade': 49, 'cidade': 'Petrópolis', 'uf': 'RJ', 'email': 'luis.rodrigo.net@gmail.com'}\n"
     ]
    }
   ],
   "source": [
    "pessoa = { \n",
    "\"nome\" : \"Luis\", \n",
    "\"idade\" : 49,\n",
    "\"cidade\" : \"Petrópolis\",\n",
    "\"uf\" : \"RJ\", \n",
    "\"email\" : \"luis.rodrigo.net@gmail.com\"\n",
    "}\n",
    "\n",
    "print(pessoa)"
   ]
  },
  {
   "cell_type": "code",
   "execution_count": 12,
   "metadata": {},
   "outputs": [
    {
     "name": "stdout",
     "output_type": "stream",
     "text": [
      "Usuário 1:\n",
      "Dados coletados:\n",
      "{'nome': 'Pombly', 'idade': 43, 'cidade': 'Rio dasGoiabas', 'uf': 'PI', 'email': 'goiabento@gmail.com'}\n",
      "Usuário 2:\n",
      "Dados coletados:\n",
      "{'nome': 'Mimbo', 'idade': 29, 'cidade': 'Inferno', 'uf': 'AC', 'email': 'dinossauro@gmail.com'}\n"
     ]
    }
   ],
   "source": [
    "lista = []\n",
    "for n in range(2):\n",
    "    mydict = {}\n",
    "    print(f'Usuário {n+1}:')\n",
    "    mydict[\"nome\"] = input('Qual seu nome, usuário?')\n",
    "    mydict[\"idade\"] = int(input('E sua idade?'))\n",
    "    mydict[\"cidade\"] = input('Onde você mora?')\n",
    "    mydict[\"uf\"] = input('E seu estado?')\n",
    "    mydict[\"email\"] = input('Ótimo. Agora só falta seu e-mail.')\n",
    "    print('Dados coletados:')\n",
    "    print(mydict)\n",
    "    lista.append(mydict)\n",
    "\n",
    "\n",
    "\n",
    "\n",
    "\n",
    "\n"
   ]
  },
  {
   "cell_type": "code",
   "execution_count": null,
   "metadata": {},
   "outputs": [],
   "source": [
    "\n",
    "print(lista[0])\n",
    "lista[0]['cel'] = '998262311'\n",
    "print(lista[0]['nome'])\n",
    "print(lista[1])"
   ]
  },
  {
   "cell_type": "code",
   "execution_count": 24,
   "metadata": {},
   "outputs": [
    {
     "name": "stdout",
     "output_type": "stream",
     "text": [
      "{'nome': 'Maria', 'notas': [7.5, 8.0, 9.2], 'média': 8.23}\n",
      "{'nome': 'João', 'notas': [6.0, 7.8, 8.5], 'média': 7.43}\n",
      "{'nome': 'Carlos', 'notas': [5.5, 6.5, 7.0], 'média': 6.33}\n"
     ]
    }
   ],
   "source": [
    "alunos = {}\n",
    "\n",
    "alunos[1] = {\"nome\" : \"Maria\", \"notas\" : [7.5, 8.0, 9.2]}\n",
    "alunos[2] = {\"nome\" : \"João\", \"notas\" : [6.0, 7.8, 8.5]}\n",
    "alunos[3] = {\"nome\" : \"Carlos\", \"notas\" : [5.5, 6.5, 7.0]}\n",
    "\n",
    "for idaluno, info in alunos.items():\n",
    "    notas = info[\"notas\"]\n",
    "    media = sum(notas)/len(notas)\n",
    "    info[\"média\"] = round(media, 2)\n",
    "\n",
    "\n",
    "for x in alunos:\n",
    "    print(alunos[x])\n",
    "\n",
    "\n",
    "\n",
    "\n"
   ]
  },
  {
   "cell_type": "code",
   "execution_count": 4,
   "metadata": {},
   "outputs": [
    {
     "name": "stdout",
     "output_type": "stream",
     "text": [
      "Matrícula do aluno ...... : 1\n",
      "Nome do aluno ........... : Splonkus\n",
      "Notas do aluno:\n",
      "\t\tNota ........... : 4.0\n",
      "\t\tNota ........... : 3.0\n",
      "\t\tNota ........... : 8.0\n",
      "\t\tNota ........... : 9.0\n",
      "\t\tMédia .......... : 6.0\n",
      "Status: ................. : Aprovado\n",
      "\n",
      "Matrícula do aluno ...... : 2\n",
      "Nome do aluno ........... : Blorky\n",
      "Notas do aluno:\n",
      "\t\tNota ........... : 6.5\n",
      "\t\tNota ........... : 9.0\n",
      "\t\tNota ........... : 6.0\n",
      "\t\tNota ........... : 4.0\n",
      "\t\tMédia .......... : 6.38\n",
      "Status: ................. : Aprovado\n",
      "\n",
      "Matrícula do aluno ...... : 3\n",
      "Nome do aluno ........... : Meengo\n",
      "Notas do aluno:\n",
      "\t\tNota ........... : 8.0\n",
      "\t\tNota ........... : 5.0\n",
      "\t\tNota ........... : 2.0\n",
      "\t\tNota ........... : 10.0\n",
      "\t\tMédia .......... : 6.25\n",
      "Status: ................. : Aprovado\n",
      "\n"
     ]
    }
   ],
   "source": [
    "alunos = {}\n",
    "\n",
    "alunos[1] = {\"nome\": \"Splonkus\", \"notas\": []}\n",
    "alunos[2] = {\"nome\": \"Blorky\", \"notas\": []}\n",
    "alunos[3] = {\"nome\": \"Meengo\", \"notas\": []}\n",
    "\n",
    "alunos[1][\"notas\"].append(4.0)\n",
    "alunos[2][\"notas\"].append(6.5)\n",
    "alunos[3][\"notas\"].append(8.0)\n",
    "\n",
    "alunos[1][\"notas\"].append(3.0)\n",
    "alunos[2][\"notas\"].append(9.0)\n",
    "alunos[3][\"notas\"].append(5.0)\n",
    "\n",
    "alunos[1][\"notas\"].append(8.0)\n",
    "alunos[2][\"notas\"].append(6.0)\n",
    "alunos[3][\"notas\"].append(2.0)\n",
    "\n",
    "alunos[1][\"notas\"].append(9.0)\n",
    "alunos[2][\"notas\"].append(4.0)\n",
    "alunos[3][\"notas\"].append(10.0)\n",
    "\n",
    "alunoscopia = alunos.copy()\n",
    "\n",
    "\n",
    "\n",
    "for matricula, dados in (alunos.copy()).items():\n",
    "    print(f'Matrícula do aluno ...... : {matricula}')\n",
    "    print(f'Nome do aluno ........... : {dados[\"nome\"]}')\n",
    "    print('Notas do aluno:')\n",
    "    for n in dados[\"notas\"]:\n",
    "         print(f'\\t\\tNota ........... : {n}')\n",
    "    media = sum(dados[\"notas\"])/len(dados[\"notas\"])\n",
    "    alunos[\"média\"] = round(media,2)\n",
    "    print(f'\\t\\tMédia .......... : {alunos[\"média\"]}')\n",
    "\n",
    "    if alunos[\"média\"] >= 6: \n",
    "     alunos['status'] = 'Aprovado'\n",
    "    else:\n",
    "     alunos['status'] = 'Reprovado'\n",
    "\n",
    "    print(f'Status: ................. : {alunos[\"status\"]}')\n",
    "    \n",
    "    print()\n",
    "\n"
   ]
  }
 ],
 "metadata": {
  "kernelspec": {
   "display_name": "Python 3.10.5 64-bit",
   "language": "python",
   "name": "python3"
  },
  "language_info": {
   "codemirror_mode": {
    "name": "ipython",
    "version": 3
   },
   "file_extension": ".py",
   "mimetype": "text/x-python",
   "name": "python",
   "nbconvert_exporter": "python",
   "pygments_lexer": "ipython3",
   "version": "3.10.5"
  },
  "orig_nbformat": 4,
  "vscode": {
   "interpreter": {
    "hash": "369f2c481f4da34e4445cda3fffd2e751bd1c4d706f27375911949ba6bb62e1c"
   }
  }
 },
 "nbformat": 4,
 "nbformat_minor": 2
}
